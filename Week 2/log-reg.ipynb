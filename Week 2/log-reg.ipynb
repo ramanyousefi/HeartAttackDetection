{
 "cells": [
  {
   "cell_type": "code",
   "execution_count": 1,
   "id": "5cc8349a-8938-4917-879a-5696e9d95822",
   "metadata": {},
   "outputs": [],
   "source": [
    "import pandas as pd\n",
    "from sklearn.model_selection import train_test_split, cross_val_score\n",
    "from sklearn.preprocessing import StandardScaler\n",
    "from sklearn.linear_model import LogisticRegression\n",
    "from sklearn.metrics import confusion_matrix, classification_report, roc_auc_score, roc_curve\n",
    "import matplotlib.pyplot as plt\n",
    "\n",
    "# Suppress any unnecessary warnings for cleaner output\n",
    "import warnings\n",
    "warnings.filterwarnings('ignore')"
   ]
  },
  {
   "cell_type": "code",
   "execution_count": 2,
   "id": "5455e481-0f41-42f2-a658-73d954d449f3",
   "metadata": {},
   "outputs": [
    {
     "name": "stdout",
     "output_type": "stream",
     "text": [
      "   Unnamed: 0  day  hour  action  alertness  hypertension  intoxication  \\\n",
      "0           0    0     0  coffee   1.394465      0.114070           0.0   \n",
      "1           1    0     1   sleep   0.774357      0.067966           0.0   \n",
      "2           2    0     2   sleep   1.281268      0.040496           0.0   \n",
      "3           3    0     3   sleep   1.123732      0.024128           0.0   \n",
      "4           4    0     4   sleep   1.247691      0.014376           0.0   \n",
      "\n",
      "   heart_attack  accident    smoker  overweight  family_history  goof_ball  \\\n",
      "0         False     False  0.671647    0.730691        0.322668   0.653565   \n",
      "1         False     False  0.671647    0.730691        0.322668   0.653565   \n",
      "2         False     False  0.671647    0.730691        0.322668   0.653565   \n",
      "3         False     False  0.671647    0.730691        0.322668   0.653565   \n",
      "4         False     False  0.671647    0.730691        0.322668   0.653565   \n",
      "\n",
      "   subject  \n",
      "0        0  \n",
      "1        0  \n",
      "2        0  \n",
      "3        0  \n",
      "4        0  \n"
     ]
    }
   ],
   "source": [
    "# Load the training dataset\n",
    "data = pd.read_csv('Datasets/set2_500_patients.csv', sep=';')\n",
    "\n",
    "# Display first few rows of the dataset to understand the structure\n",
    "print(data.head())"
   ]
  },
  {
   "cell_type": "code",
   "execution_count": 4,
   "id": "f0e2a87f-21b9-498b-8781-9fa38bf6737a",
   "metadata": {},
   "outputs": [],
   "source": [
    "# Define features and target variable\n",
    "X = data[['hour', 'hypertension', 'intoxication', 'smoker', 'overweight', 'family_history', 'goof_ball']]\n",
    "y = data['accident'] | data['heart_attack']  # Combined target for accident or heart attack\n",
    "\n",
    "# Split the dataset into training and validation sets (ensuring no subject contamination)\n",
    "X_train, X_valid, y_train, y_valid = train_test_split(X, y, test_size=0.2, random_state=42, stratify=data['subject'])\n",
    "\n",
    "# Standardize the features\n",
    "scaler = StandardScaler()\n",
    "X_train = scaler.fit_transform(X_train)\n",
    "X_valid = scaler.transform(X_valid)"
   ]
  },
  {
   "cell_type": "code",
   "execution_count": 5,
   "id": "f5ad3c5f-8c56-4222-8c37-0270c4343d70",
   "metadata": {},
   "outputs": [
    {
     "name": "stdout",
     "output_type": "stream",
     "text": [
      "Cross-Validation Accuracy Scores: [0.99298832 0.99326079 0.99266122 0.99280654 0.99266122]\n",
      "Average Cross-Validation Accuracy: 0.9928756176235624\n"
     ]
    }
   ],
   "source": [
    "# Initialize the Logistic Regression model\n",
    "model = LogisticRegression()\n",
    "\n",
    "# Perform 5-fold cross-validation\n",
    "cv_scores = cross_val_score(model, X_train, y_train, cv=5, scoring='accuracy')\n",
    "print(f'Cross-Validation Accuracy Scores: {cv_scores}')\n",
    "print(f'Average Cross-Validation Accuracy: {cv_scores.mean()}')"
   ]
  },
  {
   "cell_type": "code",
   "execution_count": 6,
   "id": "5ad597ac-7e04-4d90-b7b2-a2625d863b4c",
   "metadata": {},
   "outputs": [
    {
     "name": "stdout",
     "output_type": "stream",
     "text": [
      "Confusion Matrix:\n",
      "[[68189    46]\n",
      " [  418   160]]\n",
      "\n",
      "Classification Report:\n",
      "              precision    recall  f1-score   support\n",
      "\n",
      "       False       0.99      1.00      1.00     68235\n",
      "        True       0.78      0.28      0.41       578\n",
      "\n",
      "    accuracy                           0.99     68813\n",
      "   macro avg       0.89      0.64      0.70     68813\n",
      "weighted avg       0.99      0.99      0.99     68813\n",
      "\n",
      "ROC-AUC Score: 0.9506155325720218\n"
     ]
    },
    {
     "data": {
      "image/png": "[encoded data removed]",
      "text/plain": [
       "<Figure size 640x480 with 1 Axes>"
      ]
     },
     "metadata": {},
     "output_type": "display_data"
    }
   ],
   "source": [
    "# Fit the model to the training data\n",
    "model.fit(X_train, y_train)\n",
    "\n",
    "# Predict on the validation data\n",
    "y_pred = model.predict(X_valid)\n",
    "\n",
    "# Evaluate the model\n",
    "print(\"Confusion Matrix:\")\n",
    "print(confusion_matrix(y_valid, y_pred))\n",
    "print(\"\\nClassification Report:\")\n",
    "print(classification_report(y_valid, y_pred))\n",
    "\n",
    "# Compute ROC-AUC\n",
    "y_pred_prob = model.predict_proba(X_valid)[:, 1]\n",
    "roc_auc = roc_auc_score(y_valid, y_pred_prob)\n",
    "print(f'ROC-AUC Score: {roc_auc}')\n",
    "\n",
    "# Plot ROC Curve\n",
    "fpr, tpr, thresholds = roc_curve(y_valid, y_pred_prob)\n",
    "plt.plot(fpr, tpr, label=f'Logistic Regression (area = {roc_auc:.2f})')\n",
    "plt.xlabel('False Positive Rate')\n",
    "plt.ylabel('True Positive Rate')\n",
    "plt.title('ROC Curve')\n",
    "plt.legend(loc='lower right')\n",
    "plt.show()"
   ]
  },
  {
   "cell_type": "code",
   "execution_count": null,
   "id": "f6c95f42-5303-4b12-892e-ba21a9bb8784",
   "metadata": {},
   "outputs": [],
   "source": []
  }
 ],
 "metadata": {
  "kernelspec": {
   "display_name": "Python 3 (ipykernel)",
   "language": "python",
   "name": "python3"
  },
  "language_info": {
   "codemirror_mode": {
    "name": "ipython",
    "version": 3
   },
   "file_extension": ".py",
   "mimetype": "text/x-python",
   "name": "python",
   "nbconvert_exporter": "python",
   "pygments_lexer": "ipython3",
   "version": "3.11.7"
  }
 },
 "nbformat": 4,
 "nbformat_minor": 5
}
